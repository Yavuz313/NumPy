{
 "cells": [
  {
   "cell_type": "markdown",
   "id": "1314207c",
   "metadata": {},
   "source": [
    "# <p style=\"background-color:green;font-family:newtimeroman;font-size:200%;color:white;text-align:center;border-radius:20px 20px;\"><b>NumPy Assignment</b></p>\n",
    "![](https://www.techproeducation.com/logo/headerlogo.svg)\n",
    "​\n",
    "<b>Yeniliklerden ilk siz haberdar olmak istiyorsanız lütfen bizi takip etmeyi unutmayın </b>[YouTube](https://www.youtube.com/c/techproeducation) | [Instagram](https://www.instagram.com/techproeducation) | [Facebook](https://www.facebook.com/techproeducation) | [Telegram](https://t.me/joinchat/HH2qRvA-ulh4OWbb) | [WhatsApp](https://api.whatsapp.com/send/?phone=%2B15853042959&text&type=phone_number&app_absent=0) | [LinkedIn](https://www.linkedin.com/company/techproeducation/mycompany/) |"
   ]
  },
  {
   "cell_type": "markdown",
   "id": "0b956e8b-c012-4b7d-9fe1-be68fe668606",
   "metadata": {},
   "source": [
    "## <font color='green'> <b>Import the numpy package under the name as np & print the numpy version</b><font color='black'>"
   ]
  },
  {
   "cell_type": "code",
   "execution_count": 2,
   "id": "668e8221",
   "metadata": {},
   "outputs": [],
   "source": [
    "import numpy as np"
   ]
  },
  {
   "cell_type": "code",
   "execution_count": 6,
   "id": "42caa8a1",
   "metadata": {},
   "outputs": [
    {
     "name": "stdout",
     "output_type": "stream",
     "text": [
      "1.26.4\n"
     ]
    }
   ],
   "source": [
    "print(np.__version__)"
   ]
  },
  {
   "cell_type": "markdown",
   "id": "8c171220-e212-4057-ad4c-e809ba8961fd",
   "metadata": {},
   "source": [
    "## <font color='green'> <b>Create a null vector of size 10</b><font color='black'>"
   ]
  },
  {
   "cell_type": "code",
   "execution_count": 6,
   "id": "107c7c3b",
   "metadata": {},
   "outputs": [
    {
     "data": {
      "text/plain": [
       "array([0., 0., 0., 0., 0., 0., 0., 0., 0., 0.])"
      ]
     },
     "execution_count": 6,
     "metadata": {},
     "output_type": "execute_result"
    }
   ],
   "source": [
    "null_vector = np.zeros(10)\n",
    "null_vector"
   ]
  },
  {
   "cell_type": "markdown",
   "id": "2891b252-a1db-4ab4-a164-47c9cce9a271",
   "metadata": {},
   "source": [
    "## <font color='green'> <b>Create a null vector of size 10 but the fifth value which is 1</b><font color='black'>"
   ]
  },
  {
   "cell_type": "code",
   "execution_count": 9,
   "id": "51e58682",
   "metadata": {},
   "outputs": [
    {
     "data": {
      "text/plain": [
       "array([0., 0., 0., 0., 1., 0., 0., 0., 0., 0.])"
      ]
     },
     "execution_count": 9,
     "metadata": {},
     "output_type": "execute_result"
    }
   ],
   "source": [
    "null_vector[4] = 1\n",
    "null_vector"
   ]
  },
  {
   "cell_type": "markdown",
   "id": "491e5318-b216-48d8-8f35-82cd66594408",
   "metadata": {},
   "source": [
    "## <font color='green'> <b>Create a vector with values ranging from 10 to 50</b><font color='black'>"
   ]
  },
  {
   "cell_type": "code",
   "execution_count": 10,
   "id": "36253df9",
   "metadata": {},
   "outputs": [
    {
     "data": {
      "text/plain": [
       "array([10, 11, 12, 13, 14, 15, 16, 17, 18, 19, 20, 21, 22, 23, 24, 25, 26,\n",
       "       27, 28, 29, 30, 31, 32, 33, 34, 35, 36, 37, 38, 39, 40, 41, 42, 43,\n",
       "       44, 45, 46, 47, 48, 49, 50])"
      ]
     },
     "execution_count": 10,
     "metadata": {},
     "output_type": "execute_result"
    }
   ],
   "source": [
    "np.arange(10,51)"
   ]
  },
  {
   "cell_type": "markdown",
   "id": "b7818669-03a5-4f61-b08f-b85b8dd94372",
   "metadata": {},
   "source": [
    "## <font color='green'> <b>Reverse a vector (first element becomes last)</b><font color='black'>"
   ]
  },
  {
   "cell_type": "code",
   "execution_count": 11,
   "id": "027a4256",
   "metadata": {},
   "outputs": [
    {
     "data": {
      "text/plain": [
       "array([10,  9,  8,  7,  6,  5,  4,  3,  2,  1,  0])"
      ]
     },
     "execution_count": 11,
     "metadata": {},
     "output_type": "execute_result"
    }
   ],
   "source": [
    "np.arange(0,11)[::-1]"
   ]
  },
  {
   "cell_type": "markdown",
   "id": "5f4a94e4-596a-4c85-8356-7eb86d6cacbe",
   "metadata": {},
   "source": [
    "## <font color='green'> <b>Create a 3x3 matrix with values ranging from 0 to 9</b><font color='black'>"
   ]
  },
  {
   "cell_type": "code",
   "execution_count": 19,
   "id": "6bc73f48",
   "metadata": {},
   "outputs": [
    {
     "data": {
      "text/plain": [
       "array([[0, 1, 2],\n",
       "       [3, 4, 5],\n",
       "       [6, 7, 8]])"
      ]
     },
     "execution_count": 19,
     "metadata": {},
     "output_type": "execute_result"
    }
   ],
   "source": [
    "np.arange(0,9).reshape(3,3)"
   ]
  },
  {
   "cell_type": "markdown",
   "id": "0df95fd1-f316-4976-849b-756f927f382c",
   "metadata": {},
   "source": [
    "## <font color='green'> <b>Find indices of non­zero elements from [1,2,0,0,4,0]</b><font color='black'>\n",
    "**Extra research is required**"
   ]
  },
  {
   "cell_type": "code",
   "execution_count": 22,
   "id": "95edf755",
   "metadata": {},
   "outputs": [
    {
     "name": "stdout",
     "output_type": "stream",
     "text": [
      "[0 1 4]\n"
     ]
    }
   ],
   "source": [
    "array = np.array([1, 2, 0, 0, 4, 0])\n",
    "\n",
    "non_zero_indices = np.nonzero(array)[0]\n",
    "print(non_zero_indices)"
   ]
  },
  {
   "cell_type": "markdown",
   "id": "efc45ac3-9297-4ea0-9fd8-8534c46935e4",
   "metadata": {},
   "source": [
    "## <font color='green'> <b>Create a 3x3 identity matrix</b><font color='black'>\n",
    "Identity matrix, kare matrisler için özel bir türdür. Diagonalindeki tüm elemanlar 1, diğer elemanlar ise 0 olan kare matrisdir."
   ]
  },
  {
   "cell_type": "code",
   "execution_count": 23,
   "id": "bb3b3ade",
   "metadata": {},
   "outputs": [
    {
     "data": {
      "text/plain": [
       "array([[1., 0., 0.],\n",
       "       [0., 1., 0.],\n",
       "       [0., 0., 1.]])"
      ]
     },
     "execution_count": 23,
     "metadata": {},
     "output_type": "execute_result"
    }
   ],
   "source": [
    "np.eye(3)"
   ]
  },
  {
   "cell_type": "markdown",
   "id": "aa19488a-0613-48f3-8604-4499afe134e8",
   "metadata": {},
   "source": [
    "## <font color='green'> <b>Create a 3x3x3 array with random values [1,2,0,0,4,0]</b><font color='black'>"
   ]
  },
  {
   "cell_type": "code",
   "execution_count": 27,
   "id": "0465ead9",
   "metadata": {},
   "outputs": [
    {
     "name": "stdout",
     "output_type": "stream",
     "text": [
      "[[[0 0 0]\n",
      "  [4 4 0]\n",
      "  [0 0 4]]\n",
      "\n",
      " [[0 0 4]\n",
      "  [0 0 1]\n",
      "  [0 0 0]]\n",
      "\n",
      " [[0 1 0]\n",
      "  [4 1 0]\n",
      "  [1 1 0]]]\n"
     ]
    }
   ],
   "source": [
    "values = [1, 2, 0, 0, 4, 0]\n",
    "random_array = np.random.choice(values, (3, 3, 3))\n",
    "print(random_array)"
   ]
  },
  {
   "cell_type": "markdown",
   "id": "456bd772-149a-410a-9c86-04f1b19c6ae1",
   "metadata": {},
   "source": [
    "## <font color='green'> <b>Create a 10x10 array with random values and find the minimum and maximum values</b><font color='black'>"
   ]
  },
  {
   "cell_type": "code",
   "execution_count": 34,
   "id": "70bfb194",
   "metadata": {},
   "outputs": [
    {
     "name": "stdout",
     "output_type": "stream",
     "text": [
      "Array:\n",
      "[[0.02797387 0.92622694 0.15686265 0.48842883 0.62307431 0.70867818\n",
      "  0.42122869 0.99679495 0.62043135 0.22219203]\n",
      " [0.61963248 0.35428028 0.63264732 0.52470491 0.87238298 0.73412327\n",
      "  0.81644579 0.84379436 0.45336589 0.65439005]\n",
      " [0.5066203  0.4090579  0.77846452 0.14529939 0.82903734 0.92910745\n",
      "  0.42584415 0.77344082 0.50591493 0.68305392]\n",
      " [0.24851035 0.95621478 0.6872536  0.46737519 0.61829554 0.63593283\n",
      "  0.65531059 0.54245648 0.4604005  0.58248842]\n",
      " [0.83991591 0.13607925 0.90575409 0.74784771 0.70986028 0.84590181\n",
      "  0.25540653 0.29870741 0.36398323 0.96059673]\n",
      " [0.12111965 0.85478585 0.01196691 0.06488427 0.48662592 0.65268675\n",
      "  0.3371584  0.07041304 0.94937684 0.63072805]\n",
      " [0.15748217 0.14484021 0.85979261 0.424695   0.76662398 0.25146374\n",
      "  0.92556049 0.30868958 0.46319364 0.28697006]\n",
      " [0.81250643 0.00107434 0.99794059 0.4055603  0.94698172 0.95740878\n",
      "  0.71528053 0.03475081 0.80965846 0.76071748]\n",
      " [0.264046   0.19931653 0.33373641 0.23614522 0.70072956 0.76033761\n",
      "  0.61836208 0.6047843  0.48658247 0.60206698]\n",
      " [0.62154633 0.73146218 0.72101208 0.50597082 0.23373242 0.19217314\n",
      "  0.97813283 0.25831739 0.48225622 0.06858518]]\n",
      "\n",
      "Minimum value: 0.0010743378373249124\n",
      "Maximum value: 0.9979405886632436\n"
     ]
    }
   ],
   "source": [
    "array = np.random.rand(10, 10)\n",
    "\n",
    "min_value = np.min(array)\n",
    "max_value = np.max(array)\n",
    "\n",
    "print(\"Array:\")\n",
    "print(array)\n",
    "print(\"\\nMinimum value:\", min_value)\n",
    "print(\"Maximum value:\", max_value)"
   ]
  },
  {
   "cell_type": "markdown",
   "id": "8cbf0c5f-e2dd-4418-b923-a52bbda70b7e",
   "metadata": {},
   "source": [
    "## <font color='green'> <b>Create a random vector of size 30 and find the mean value</b><font color='black'>"
   ]
  },
  {
   "cell_type": "code",
   "execution_count": 35,
   "id": "625f82b7",
   "metadata": {},
   "outputs": [
    {
     "name": "stdout",
     "output_type": "stream",
     "text": [
      "Vector:\n",
      "[0.35633195 0.06392555 0.52286367 0.50289789 0.03182655 0.28410421\n",
      " 0.88702706 0.86021168 0.82806324 0.43614547 0.10402068 0.63562508\n",
      " 0.34787039 0.62069553 0.55719977 0.08106595 0.68845762 0.55792908\n",
      " 0.62782702 0.75260864 0.70538201 0.4901904  0.69251639 0.76036794\n",
      " 0.64437369 0.08407656 0.63966529 0.50469289 0.8578217  0.08836598]\n",
      "\n",
      "Mean value: 0.5071383294346311\n"
     ]
    }
   ],
   "source": [
    "vector = np.random.rand(30)\n",
    "\n",
    "# Find the mean value of the vector\n",
    "mean_value = np.mean(vector)\n",
    "\n",
    "print(\"Vector:\")\n",
    "print(vector)\n",
    "print(\"\\nMean value:\", mean_value)"
   ]
  },
  {
   "cell_type": "markdown",
   "id": "dcdb4e96",
   "metadata": {},
   "source": [
    "## <font color='green'> <b>How can I create an array with dimensions (6, 7, 8) using arange, and find its last element?</b><font color='black'>"
   ]
  },
  {
   "cell_type": "code",
   "execution_count": 42,
   "id": "844deeaf",
   "metadata": {},
   "outputs": [
    {
     "name": "stdout",
     "output_type": "stream",
     "text": [
      "Son eleman: 335\n"
     ]
    }
   ],
   "source": [
    "array = np.arange(336)\n",
    "\n",
    "reshaped_array = array.reshape(6, 7, 8)\n",
    "\n",
    "last_element = reshaped_array[-1, -1, -1]\n",
    "\n",
    "print(\"Son eleman:\", last_element)"
   ]
  },
  {
   "cell_type": "markdown",
   "id": "afc74cce-1589-434f-929e-d4f809eac34d",
   "metadata": {},
   "source": [
    "## <font color='green'> <b>Create a 5x5 matrix with row values ranging from 0 to 5</b><font color='black'>"
   ]
  },
  {
   "cell_type": "code",
   "execution_count": 43,
   "id": "522397f4",
   "metadata": {},
   "outputs": [
    {
     "name": "stdout",
     "output_type": "stream",
     "text": [
      "[[0 1 2 3 4]\n",
      " [0 1 2 3 4]\n",
      " [0 1 2 3 4]\n",
      " [0 1 2 3 4]\n",
      " [0 1 2 3 4]]\n"
     ]
    }
   ],
   "source": [
    "row = np.arange(5)\n",
    "\n",
    "matrix = np.tile(row, (5, 1))\n",
    "\n",
    "print(matrix)"
   ]
  },
  {
   "cell_type": "markdown",
   "id": "cbea287c-b2ef-4c94-b4bc-e047ee69abd1",
   "metadata": {},
   "source": [
    "## <font color='green'> <b>Create a vector of size 12 with values ranging from 0 to 1 (excluding 0 and 1)</b><font color='black'>"
   ]
  },
  {
   "cell_type": "code",
   "execution_count": 44,
   "id": "b6caf3c4",
   "metadata": {},
   "outputs": [
    {
     "name": "stdout",
     "output_type": "stream",
     "text": [
      "[0.07692308 0.15384615 0.23076923 0.30769231 0.38461538 0.46153846\n",
      " 0.53846154 0.61538462 0.69230769 0.76923077 0.84615385 0.92307692]\n"
     ]
    }
   ],
   "source": [
    "vector = np.linspace(0, 1, 14)[1:-1]\n",
    "\n",
    "print(vector)"
   ]
  },
  {
   "cell_type": "markdown",
   "id": "1dc7d714-45a5-4bc7-a52e-37abe31bfb1f",
   "metadata": {},
   "source": [
    "## <font color='green'> <b>Create a random vector of size 10 and sort it</b><font color='black'>"
   ]
  },
  {
   "cell_type": "code",
   "execution_count": 11,
   "id": "c0a59fbf",
   "metadata": {},
   "outputs": [],
   "source": [
    "arr7 = np.random.rand(10)"
   ]
  },
  {
   "cell_type": "code",
   "execution_count": 12,
   "id": "6df6b5c5",
   "metadata": {},
   "outputs": [
    {
     "data": {
      "text/plain": [
       "array([0.03002014, 0.30099417, 0.44104128, 0.54339042, 0.5936065 ,\n",
       "       0.59818646, 0.69064222, 0.71539951, 0.73774085, 0.97659214])"
      ]
     },
     "execution_count": 12,
     "metadata": {},
     "output_type": "execute_result"
    }
   ],
   "source": [
    "arr7.sort()\n",
    "arr7"
   ]
  },
  {
   "cell_type": "markdown",
   "id": "0d58bab8-cab1-4318-9405-6e54a17ac346",
   "metadata": {},
   "source": [
    "## <font color='green'> <b>Consider two random array A anb B, check if they are equal</b><font color='black'>\n",
    "**Extra research is required**"
   ]
  },
  {
   "cell_type": "code",
   "execution_count": 13,
   "id": "07d21f6d",
   "metadata": {},
   "outputs": [
    {
     "data": {
      "text/plain": [
       "array([[33, 85, 68],\n",
       "       [35, 69, 11],\n",
       "       [78, 29, 18]])"
      ]
     },
     "execution_count": 13,
     "metadata": {},
     "output_type": "execute_result"
    }
   ],
   "source": [
    "np.random.seed(34)\n",
    "arr_A = np.random.randint(100, size=(3,3))\n",
    "arr_A"
   ]
  },
  {
   "cell_type": "code",
   "execution_count": 14,
   "id": "94733672",
   "metadata": {},
   "outputs": [
    {
     "data": {
      "text/plain": [
       "array([[20, 35, 45],\n",
       "       [59,  3, 96],\n",
       "       [84,  3, 23]])"
      ]
     },
     "execution_count": 14,
     "metadata": {},
     "output_type": "execute_result"
    }
   ],
   "source": [
    "np.random.seed(44)\n",
    "arr_B = np.random.randint(100, size=(3,3))\n",
    "arr_B"
   ]
  },
  {
   "cell_type": "code",
   "execution_count": 20,
   "id": "fcf9e89c",
   "metadata": {},
   "outputs": [
    {
     "data": {
      "text/plain": [
       "array([[False, False, False],\n",
       "       [False, False, False],\n",
       "       [False, False, False]])"
      ]
     },
     "execution_count": 20,
     "metadata": {},
     "output_type": "execute_result"
    }
   ],
   "source": [
    "arr_A == arr_B"
   ]
  },
  {
   "cell_type": "markdown",
   "id": "add060d3-6cca-47eb-8a48-2b9f33227130",
   "metadata": {},
   "source": [
    "## <font color='green'> <b>Generate a random vector of size 10 and replace the maximum value with 0</b><font color='black'>"
   ]
  },
  {
   "cell_type": "code",
   "execution_count": 22,
   "id": "6edc3993",
   "metadata": {},
   "outputs": [
    {
     "data": {
      "text/plain": [
       "array([2, 9, 8, 5, 6, 4, 1, 5, 3, 9])"
      ]
     },
     "execution_count": 22,
     "metadata": {},
     "output_type": "execute_result"
    }
   ],
   "source": [
    "arr_8 = np.random.randint(1,10, size=10)\n",
    "arr_8"
   ]
  },
  {
   "cell_type": "code",
   "execution_count": 25,
   "id": "3fae2951",
   "metadata": {},
   "outputs": [
    {
     "data": {
      "text/plain": [
       "1"
      ]
     },
     "execution_count": 25,
     "metadata": {},
     "output_type": "execute_result"
    }
   ],
   "source": [
    "np.argmax(arr_8) "
   ]
  },
  {
   "cell_type": "code",
   "execution_count": 27,
   "id": "d16b838e",
   "metadata": {},
   "outputs": [
    {
     "data": {
      "text/plain": [
       "array([2, 0, 8, 5, 6, 4, 1, 5, 3, 0])"
      ]
     },
     "execution_count": 27,
     "metadata": {},
     "output_type": "execute_result"
    }
   ],
   "source": [
    "arr_8[np.argmax(arr_8) ] = 0\n",
    "arr_8"
   ]
  },
  {
   "cell_type": "markdown",
   "id": "3d99138b-91e6-4d19-9195-1f384a68063b",
   "metadata": {},
   "source": [
    "## <font color='green'> <b>How to find the most frequent value in an array?</b><font color='black'>\n",
    "**Extra research is required**"
   ]
  },
  {
   "cell_type": "code",
   "execution_count": 28,
   "id": "19a6efab",
   "metadata": {},
   "outputs": [
    {
     "data": {
      "text/plain": [
       "array([2, 2, 1, 3, 3, 3, 3, 1, 4, 1])"
      ]
     },
     "execution_count": 28,
     "metadata": {},
     "output_type": "execute_result"
    }
   ],
   "source": [
    "arr_9 = np.random.randint(1,5,10)\n",
    "arr_9"
   ]
  },
  {
   "cell_type": "code",
   "execution_count": 34,
   "id": "0b9c4800",
   "metadata": {},
   "outputs": [
    {
     "data": {
      "text/plain": [
       "array([0, 0, 0, 0, 0, 0, 0, 0, 0, 0])"
      ]
     },
     "execution_count": 34,
     "metadata": {},
     "output_type": "execute_result"
    }
   ],
   "source": []
  },
  {
   "cell_type": "markdown",
   "id": "643742e8",
   "metadata": {},
   "source": [
    "## <font color='green'> <b>Create a 2d array with 1 on the border and 0 inside</b><font color='black'>"
   ]
  },
  {
   "cell_type": "code",
   "execution_count": 40,
   "id": "affc3c2a",
   "metadata": {},
   "outputs": [
    {
     "name": "stdout",
     "output_type": "stream",
     "text": [
      "[[1 1 1 1 1]\n",
      " [1 0 0 0 1]\n",
      " [1 0 0 0 1]\n",
      " [1 0 0 0 1]\n",
      " [1 1 1 1 1]]\n"
     ]
    }
   ],
   "source": [
    "array = np.zeros((5, 5), dtype=int)\n",
    "\n",
    "# Sınırları 1 yap\n",
    "array[0, :] = 1  # Üst sınır\n",
    "array[-1, :] = 1  # Alt sınır\n",
    "array[:, 0] = 1  # Sol sınır\n",
    "array[:, -1] = 1  # Sağ sınır\n",
    "\n",
    "print(array)"
   ]
  },
  {
   "cell_type": "markdown",
   "id": "823dbb42",
   "metadata": {},
   "source": [
    "## <font color='green'> <b>Create a 5x5 matrix with values 1,2,3,4 just below the diagonal</b><font color='black'>\n",
    "**Extra research may be required**"
   ]
  },
  {
   "attachments": {
    "image.png": {
     "image/png": "[encoded data removed]"
    }
   },
   "cell_type": "markdown",
   "id": "e65c7127",
   "metadata": {},
   "source": [
    "![image.png](attachment:image.png)"
   ]
  },
  {
   "cell_type": "code",
   "execution_count": 39,
   "id": "7b368d01",
   "metadata": {},
   "outputs": [
    {
     "name": "stdout",
     "output_type": "stream",
     "text": [
      "[[0 0 0 0 0]\n",
      " [1 0 0 0 0]\n",
      " [0 2 0 0 0]\n",
      " [0 0 3 0 0]\n",
      " [0 0 0 4 0]]\n"
     ]
    }
   ],
   "source": [
    "\n",
    "values = [1, 2, 3, 4]\n",
    "\n",
    "matrix = np.diag(values, k=-1)\n",
    "\n",
    "print(matrix)"
   ]
  },
  {
   "cell_type": "markdown",
   "id": "19b54bac",
   "metadata": {},
   "source": [
    "## <font color='green'> <b>Create a 8x8 matrix and fill it with a checkerboard pattern</b><font color='black'>"
   ]
  },
  {
   "attachments": {
    "image.png": {
     "image/png": "[encoded data removed]"
    }
   },
   "cell_type": "markdown",
   "id": "2ce4419c",
   "metadata": {},
   "source": [
    "![image.png](attachment:image.png)"
   ]
  },
  {
   "cell_type": "code",
   "execution_count": 37,
   "id": "d51e25f9",
   "metadata": {},
   "outputs": [
    {
     "name": "stdout",
     "output_type": "stream",
     "text": [
      "[[0 1 0 1 0 1 0 1]\n",
      " [1 0 1 0 1 0 1 0]\n",
      " [0 1 0 1 0 1 0 1]\n",
      " [1 0 1 0 1 0 1 0]\n",
      " [0 1 0 1 0 1 0 1]\n",
      " [1 0 1 0 1 0 1 0]\n",
      " [0 1 0 1 0 1 0 1]\n",
      " [1 0 1 0 1 0 1 0]]\n"
     ]
    }
   ],
   "source": [
    "\n",
    "checkerboard = np.zeros((8, 8), dtype=int)\n",
    "\n",
    "checkerboard[1::2, ::2] = 1 \n",
    "checkerboard[::2, 1::2] = 1 \n",
    "\n",
    "print(checkerboard)\n"
   ]
  },
  {
   "cell_type": "markdown",
   "id": "50007555",
   "metadata": {},
   "source": [
    "## <font color='green'> <b>Create a checkerboard 8x8 matrix using the tile function</b><font color='black'>\n",
    "**Extra research is required**"
   ]
  },
  {
   "cell_type": "code",
   "execution_count": 35,
   "id": "3aba5dc2",
   "metadata": {},
   "outputs": [
    {
     "name": "stdout",
     "output_type": "stream",
     "text": [
      "[[0 1 0 1 0 1 0 1]\n",
      " [1 0 1 0 1 0 1 0]\n",
      " [0 1 0 1 0 1 0 1]\n",
      " [1 0 1 0 1 0 1 0]\n",
      " [0 1 0 1 0 1 0 1]\n",
      " [1 0 1 0 1 0 1 0]\n",
      " [0 1 0 1 0 1 0 1]\n",
      " [1 0 1 0 1 0 1 0]]\n"
     ]
    }
   ],
   "source": [
    "\n",
    "\n",
    "checkerboard_2x2 = np.array([[0, 1],\n",
    "                             [1, 0]])\n",
    "\n",
    "checkerboard_8x8 = np.tile(checkerboard_2x2, (4, 4))\n",
    "\n",
    "print(checkerboard_8x8)\n"
   ]
  },
  {
   "attachments": {},
   "cell_type": "markdown",
   "id": "8d979ea4",
   "metadata": {},
   "source": [
    "# <p style=\"background-color:green;font-family:newtimeroman;font-size:150%;color:white;text-align:center;border-radius:20px 20px;\"><b>Faydalı Olması Temennisiyle Teşekkürler</b></p>\n",
    "![](https://www.techproeducation.com/logo/headerlogo.svg)\n",
    "\n",
    "<b>Yeniliklerden ilk siz haberdar olmak istiyorsanız lütfen bizi takip etmeyi unutmayın </b>[YouTube](https://www.youtube.com/c/techproeducation) | [Instagram](https://www.instagram.com/techproeducation) | [Facebook](https://www.facebook.com/techproeducation) | [Telegram](https://t.me/joinchat/HH2qRvA-ulh4OWbb) | [Whatsapp](https://api.whatsapp.com/send/?phone=%2B15853042959&text&type=phone_number&app_absent=0) | [LinkedIn](https://www.linkedin.com/company/techproeducation/mycompany/) |"
   ]
  }
 ],
 "metadata": {
  "hide_input": false,
  "kernelspec": {
   "display_name": "Python 3 (ipykernel)",
   "language": "python",
   "name": "python3"
  },
  "language_info": {
   "codemirror_mode": {
    "name": "ipython",
    "version": 3
   },
   "file_extension": ".py",
   "mimetype": "text/x-python",
   "name": "python",
   "nbconvert_exporter": "python",
   "pygments_lexer": "ipython3",
   "version": "3.11.7"
  },
  "toc": {
   "base_numbering": 1,
   "nav_menu": {},
   "number_sections": true,
   "sideBar": true,
   "skip_h1_title": false,
   "title_cell": "Table of Contents",
   "title_sidebar": "Contents",
   "toc_cell": false,
   "toc_position": {
    "height": "calc(100% - 180px)",
    "left": "10px",
    "top": "150px",
    "width": "384px"
   },
   "toc_section_display": true,
   "toc_window_display": true
  },
  "varInspector": {
   "cols": {
    "lenName": 16,
    "lenType": 16,
    "lenVar": 40
   },
   "kernels_config": {
    "python": {
     "delete_cmd_postfix": "",
     "delete_cmd_prefix": "del ",
     "library": "var_list.py",
     "varRefreshCmd": "print(var_dic_list())"
    },
    "r": {
     "delete_cmd_postfix": ") ",
     "delete_cmd_prefix": "rm(",
     "library": "var_list.r",
     "varRefreshCmd": "cat(var_dic_list()) "
    }
   },
   "types_to_exclude": [
    "module",
    "function",
    "builtin_function_or_method",
    "instance",
    "_Feature"
   ],
   "window_display": false
  }
 },
 "nbformat": 4,
 "nbformat_minor": 5
}
